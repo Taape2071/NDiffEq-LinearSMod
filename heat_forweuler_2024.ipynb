{
 "cells": [
  {
   "cell_type": "markdown",
   "metadata": {
    "tags": []
   },
   "source": [
    "# Numerical solution of the 1d heat equation with forward Euler\n",
    "\n",
    "\\begin{align*}\n",
    "\\begin{cases}\n",
    "  u_t=u_{xx}, \\qquad a < x < b,\\; 0\\leq t \\leq T \\\\[0.2cm]\n",
    "  u(a,t)=g_a(t),\\quad u(b,t)=g_b(t),\\\\[0.2cm]\n",
    "  u(x,0) = u_0(x)&\n",
    "  \\end{cases}\n",
    "\\end{align*}\n",
    "\n",
    "using the Forward Euler method. To simplify, we take $a=0$ and $b=1$."
   ]
  },
  {
   "cell_type": "markdown",
   "metadata": {},
   "source": [
    "## Code to solve the problem"
   ]
  },
  {
   "cell_type": "markdown",
   "metadata": {},
   "source": [
    "* Import libraries"
   ]
  },
  {
   "cell_type": "code",
   "execution_count": null,
   "metadata": {},
   "outputs": [],
   "source": [
    "%matplotlib inline\n",
    "import numpy as np\n",
    "import time\n",
    "import matplotlib.pyplot as plt\n",
    "newparams = {'figure.figsize': (8.0, 4.0), 'axes.grid': True,\n",
    "             'lines.markersize': 8, 'lines.linewidth': 2,\n",
    "             'font.size': 14}\n",
    "from matplotlib import cm\n",
    "plt.rcParams.update(newparams)"
   ]
  },
  {
   "cell_type": "markdown",
   "metadata": {},
   "source": [
    "* Function to construct tridiagonal matrices"
   ]
  },
  {
   "cell_type": "code",
   "execution_count": null,
   "metadata": {},
   "outputs": [],
   "source": [
    "def tridiag(v, d, w, N):\n",
    "    # Help function \n",
    "    # Returns a tridiagonal matrix A=tridiag(v, d, w) of dimension N x N.\n",
    "    e = np.ones(N)        # array [1,1,...,1] of length N\n",
    "    A = v*np.diag(e[1:],-1)+d*np.diag(e)+w*np.diag(e[1:],1)\n",
    "    return A"
   ]
  },
  {
   "cell_type": "code",
   "execution_count": null,
   "metadata": {},
   "outputs": [],
   "source": [
    "class IBVP(object): \n",
    "    def __init__(self, ga=0, gb=0, a=0, b=1, u0=0, f=0):\n",
    "        self.ga = ga       # left boundary condition\n",
    "        self.gb = gb       # right boundary condition\n",
    "        self.a = a         # left boundary position \n",
    "        self.b = b         # right boundary position \n",
    "        self.u0 = u0       # initial condition\n",
    "        self.f = f         # right hand side "
   ]
  },
  {
   "cell_type": "markdown",
   "metadata": {},
   "source": [
    "* Implement the solver. "
   ]
  },
  {
   "cell_type": "code",
   "execution_count": null,
   "metadata": {},
   "outputs": [],
   "source": [
    "def forward_euler(IBVP, M=10, N=100, T=0.5):\n",
    "    # Solve the heat equation\n",
    "    # u_t=u_xx, a<=x<=b\n",
    "    # and initial values u(x,0)=u0(x)\n",
    "    # over the time interval from 0 to T.\n",
    "    # Input: \n",
    "    #       IBVP: object with the initial and boundary values and right hand side \n",
    "    #       M, N: number of grid intervals in the x- and t directions\n",
    "    #       T: end of integration\n",
    "    # Output: \n",
    "    #       x, t: the gridpoints in the x- and t- directions \n",
    "    #       U: An array with the numerical solution.\n",
    "\n",
    "    # Set the stepsizes\n",
    "    h = (IBVP.b-IBVP.a)/M     # Stepsize in space\n",
    "    k = T/N                   # Stepsize in time\n",
    "    \n",
    "    r = k/h**2\n",
    "    # Print the stepsizes, and r=k/h^2.\n",
    "    print('h={:.4f}, k={:.4f}, r={:.4f}'.format(h,k,r))\n",
    "    \n",
    "    x = np.linspace(IBVP.a, IBVP.b, M+1)  # Gridpoints on the x-axis\n",
    "    t = np.linspace(0,T,N+1)              # Gridpoints on the t-axis   \n",
    "    U = np.zeros((M+1,N+1))               # Array to store the solution, boundaries included. \n",
    "    \n",
    "    U[:,0] = IBVP.u0(x)                   # Initial values\n",
    "    U[0,:] = IBVP.ga(t)                   # Boundary values\n",
    "    U[-1,:] = IBVP.gb(t)                  # Boundary values\n",
    "    \n",
    "    A = tridiag(r,1-2*r,r,M-1);\n",
    "    \n",
    "\n",
    "    # Main loop (only correct for 0=ga=gb=f)\n",
    "    for n in range(N):\n",
    "         U[1:-1, n+1] = A.dot(U[1:-1,n])  \n",
    "               # Must add BC and RHS-terms if BC and RHS not 0\n",
    "        \n",
    "    return x, t, U"
   ]
  },
  {
   "cell_type": "markdown",
   "metadata": {},
   "source": [
    "* Implement the plotting function"
   ]
  },
  {
   "cell_type": "code",
   "execution_count": null,
   "metadata": {},
   "outputs": [],
   "source": [
    "def plot_solution(x, t, U, txt='Solution'):\n",
    "    # Plot the solution of the heat equation\n",
    "    \n",
    "    fig, ax = plt.subplots(subplot_kw={\"projection\": \"3d\"})\n",
    "    T, X = np.meshgrid(t,x)\n",
    "    # ax.plot_wireframe(T, X, U)\n",
    "    ax.plot_surface(T, X, U, cmap=cm.coolwarm)\n",
    "    ax.view_init(azim=30)              # Rotate the figure\n",
    "    plt.xlabel('t')\n",
    "    plt.ylabel('x')\n",
    "    plt.title(txt);"
   ]
  },
  {
   "cell_type": "markdown",
   "metadata": {},
   "source": [
    "## Run a numerical test"
   ]
  },
  {
   "cell_type": "code",
   "execution_count": null,
   "metadata": {},
   "outputs": [],
   "source": [
    "def u0(x): #Initial condition \n",
    "    return (np.heaviside(x-0.4,1)-np.heaviside(x-0.7,1))\n",
    "\n",
    "def g0(t): #Boundary value x=0 (Alternative syntax: g0 = lambda t: t*0) \n",
    "    return 0\n",
    "\n",
    "def g1(t): #Boundary value x=1\n",
    "    return 0"
   ]
  },
  {
   "cell_type": "markdown",
   "metadata": {
    "tags": []
   },
   "source": [
    "* Solve it. \n",
    "* Plot the solution."
   ]
  },
  {
   "cell_type": "code",
   "execution_count": null,
   "metadata": {},
   "outputs": [],
   "source": [
    "ex1 = IBVP(g0,g1,0,1,u0,0)\n",
    "\n",
    "# Solve the problem\n",
    "x, t, U = forward_euler(ex1, M=20, N=400, T=0.5)\n",
    "\n",
    "# Plot the solution at some points in time\n",
    "plt.figure(1)\n",
    "plt.clf()\n",
    "tplots = np.linspace(0,t[-1],6)\n",
    "k = t[1]-t[0]\n",
    "for tn in tplots:\n",
    "    n = int(tn/k)\n",
    "    tn = n*k\n",
    "    plt.plot(x,U[:,n],'-o',label='t={:.4f}'.format(tn))\n",
    "plt.xlabel('x')\n",
    "plt.ylabel('u(x,t)')\n",
    "plt.legend()\n",
    "plt.show()\n",
    "\n",
    "# Make a 3-d plot\n",
    "plot_solution(x, t, U, txt='Solution')\n",
    "plt.show()"
   ]
  },
  {
   "cell_type": "markdown",
   "metadata": {},
   "source": [
    "## Test accuracy of solver. Exact solution.\n",
    "Since we can find many exact solution by the method of sparation of variables, we will use one of these:\n",
    "\\begin{align}\n",
    "    u(x,t)=e^{-\\pi^2 t}\\sin(\\pi x) + e^{-4\\pi^2 t}\\sin(2\\pi x)\n",
    "\\end{align}\n",
    "with initial condition \n",
    "\\begin{align*}\n",
    "    f(x)&=\\sin(\\pi x) + \\sin(2\\pi x) \n",
    "\\end{align*}"
   ]
  },
  {
   "cell_type": "code",
   "execution_count": null,
   "metadata": {},
   "outputs": [],
   "source": [
    "# Exact solution:\n",
    "def uex_1(x,t):  \n",
    "    return  np.exp(-1*np.pi**2*t)*np.sin(np.pi*x) + np.exp(-4*np.pi**2*t)*np.sin(2*np.pi*x)\n",
    "\n",
    "#Initial condition: \n",
    "def u0(x): \n",
    "    return np.sin(np.pi*x) + np.sin(2*np.pi*x)"
   ]
  },
  {
   "cell_type": "code",
   "execution_count": null,
   "metadata": {
    "tags": []
   },
   "outputs": [],
   "source": [
    "# Solve the equation\n",
    "ex2 = IBVP(g0,g1,0,1,u0,0)\n",
    "x, t, U = forward_euler(ex2, M=20, N=400, T=0.5) \n",
    "\n",
    "\n",
    "# Make a 3-d plot\n",
    "plot_solution(x, t, U, txt='Solution')\n",
    "plt.show()"
   ]
  },
  {
   "cell_type": "markdown",
   "metadata": {},
   "source": [
    "* Plot the error"
   ]
  },
  {
   "cell_type": "code",
   "execution_count": null,
   "metadata": {},
   "outputs": [],
   "source": [
    "# Make a 3-d plot of the error\n",
    "T, X = np.meshgrid(t,x)\n",
    "plot_solution(x, t, U-uex_1(X,T), txt='Error')\n",
    "plt.show()"
   ]
  },
  {
   "cell_type": "markdown",
   "metadata": {},
   "source": [
    "#### Convergence in space\n",
    "* We measure convergence in the max / $L^\\infty$-norm\n",
    "* Verify the convergence rate in space by successively refining the spatial grid, keeping the timestep fixed and very/sufficiently small (the CFL condition must always be satisfied).\n",
    "* For simplicity we compute the error at a fixed time (so we compute the max-norm in space only). We take an early time because solution decay to zero exponentially."
   ]
  },
  {
   "cell_type": "code",
   "execution_count": null,
   "metadata": {},
   "outputs": [],
   "source": [
    "def convergence_space(u_exact,heat_object, solver=forward_euler): \n",
    "    P = 4\n",
    "    Hconv = np.zeros(P)\n",
    "    Econv = np.zeros(P)\n",
    "    M = 4\n",
    "    for p in range(P):\n",
    "        x, t, U = solver(heat_object, M=M, N=10000, T=0.1)\n",
    "        Eh = u_exact(x,t[-1])-U[:,-1]\n",
    "        Hconv[p] = (x[1]-x[0])\n",
    "        Econv[p] = np.max(np.abs(Eh))\n",
    "        M = 2*M\n",
    "    order = np.polyfit(np.log(Hconv),np.log(Econv),1)[0]\n",
    "    return Hconv, Econv, order"
   ]
  },
  {
   "cell_type": "markdown",
   "metadata": {},
   "source": [
    "* Make a table of step sizes and corresponding errors, compute the local rates."
   ]
  },
  {
   "cell_type": "code",
   "execution_count": null,
   "metadata": {},
   "outputs": [],
   "source": [
    "H, E, p = convergence_space(uex_1,ex2)\n",
    "import pandas as pd #To format the output of the notebook.  \n",
    "Rate=np.zeros(np.size(E))\n",
    "Rate[1:]=np.log10(E[1:]/E[:-1])/np.log10(H[1:]/H[:-1])\n",
    "pd.options.display.float_format = '{:.8f}'.format\n",
    "df = pd.DataFrame(data={'h': H, 'Error': E ,'Rate':Rate}) \n",
    "df"
   ]
  },
  {
   "cell_type": "markdown",
   "metadata": {},
   "source": [
    "* Plot the log-log graph of convergence in space."
   ]
  },
  {
   "cell_type": "code",
   "execution_count": null,
   "metadata": {},
   "outputs": [],
   "source": [
    "plt.loglog(H,E,'o-', label='p={:.2f}'.format(p))\n",
    "plt.grid('on')\n",
    "plt.xlabel('h')\n",
    "plt.ylabel('error')\n",
    "plt.legend();"
   ]
  },
  {
   "cell_type": "markdown",
   "metadata": {},
   "source": [
    "#### Convergence in time\n",
    "* Verify the convergence rate in time by successively refining the temporal grid. \n",
    "* Because of the CFL stability condition $k<0.5h^2$, we can never take very small $h$ and then refine $k$. \n",
    "* We change test problem: Fix $h$ and consider the semi-discrete  problem $\\partial_tu_m=\\frac1{h^2}\\delta_h^2u_m$.\n",
    "* We have no exact solution, but instead compute a very accurate reference solution with our finite difference solver by taking $k$ very small.\n",
    "* The reference solution replaces the exact solution and we can refine $k$ and compute errors and rates as before."
   ]
  },
  {
   "cell_type": "code",
   "execution_count": null,
   "metadata": {
    "tags": []
   },
   "outputs": [],
   "source": [
    "# Find reference solution for semidiscrete problem (h fixed)\n",
    "x, t, U_ref = forward_euler(ex2, M=20, N=50000, T=0.1)\n",
    "\n",
    "# Refine in time\n",
    "def convergence_time(U_ref, heat_object,solver=forward_euler): \n",
    "    P = 4\n",
    "    Tconv = np.zeros(P)\n",
    "    Econv = np.zeros(P)\n",
    "    N = 400\n",
    "    for p in range(P):\n",
    "        x, t, U = solver(heat_object, M=20, N=N, T=0.1)\n",
    "        Eh = U_ref[:,-1]-U[:,-1]\n",
    "        Tconv[p] = (t[1]-t[0])\n",
    "        Econv[p] = np.max(np.abs(Eh))\n",
    "        N = 2*N\n",
    "    order = np.polyfit(np.log(Tconv),np.log(Econv),1)[0]\n",
    "    return Tconv, Econv, order"
   ]
  },
  {
   "cell_type": "markdown",
   "metadata": {},
   "source": [
    "* Make a table of step sizes and corresponding errors, compute the local rates."
   ]
  },
  {
   "cell_type": "code",
   "execution_count": null,
   "metadata": {},
   "outputs": [],
   "source": [
    "T, E, p = convergence_time(U_ref,ex2)\n",
    "\n",
    "Rate=np.zeros(np.size(E))\n",
    "Rate[1:]=np.log10(E[1:]/E[:-1])/np.log10(T[1:]/T[:-1])\n",
    "pd.options.display.float_format = '{:.8f}'.format\n",
    "df = pd.DataFrame(data={'h': T, 'Error': E ,'Rate':Rate}) \n",
    "df"
   ]
  },
  {
   "cell_type": "markdown",
   "metadata": {},
   "source": [
    "* Plot the log-log graph of convergence in time."
   ]
  },
  {
   "cell_type": "code",
   "execution_count": null,
   "metadata": {},
   "outputs": [],
   "source": [
    "plt.loglog(T,E,'o-', label='p={:.2f}'.format(p))\n",
    "plt.grid('on')\n",
    "plt.xlabel('t')\n",
    "plt.ylabel('error')\n",
    "plt.legend();"
   ]
  }
 ],
 "metadata": {
  "kernelspec": {
   "display_name": "Python 3 (ipykernel)",
   "language": "python",
   "name": "python3"
  },
  "language_info": {
   "codemirror_mode": {
    "name": "ipython",
    "version": 3
   },
   "file_extension": ".py",
   "mimetype": "text/x-python",
   "name": "python",
   "nbconvert_exporter": "python",
   "pygments_lexer": "ipython3",
   "version": "3.11.5"
  }
 },
 "nbformat": 4,
 "nbformat_minor": 4
}
